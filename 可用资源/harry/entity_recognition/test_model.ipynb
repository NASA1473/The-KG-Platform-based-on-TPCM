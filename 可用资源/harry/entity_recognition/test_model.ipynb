{
 "metadata": {
  "language_info": {
   "codemirror_mode": {
    "name": "ipython",
    "version": 3
   },
   "file_extension": ".py",
   "mimetype": "text/x-python",
   "name": "python",
   "nbconvert_exporter": "python",
   "pygments_lexer": "ipython3",
   "version": "3.6.12-final"
  },
  "orig_nbformat": 2,
  "kernelspec": {
   "name": "python3",
   "display_name": "Python 3.6.12 64-bit ('opennre': conda)",
   "metadata": {
    "interpreter": {
     "hash": "b5fdc3e7fab1a59fc0e0e7a1721f98f86242be1f07131b0a11d285284e493daa"
    }
   }
  }
 },
 "nbformat": 4,
 "nbformat_minor": 2,
 "cells": [
  {
   "cell_type": "code",
   "execution_count": 7,
   "metadata": {},
   "outputs": [],
   "source": [
    "from os.path import join\n",
    "from data import build_corpus, build_corpus_origin\n",
    "from utils import load_model, extend_maps, prepocess_data_for_lstmcrf\n",
    "from models.util import sort_by_lengths, tensorized"
   ]
  },
  {
   "cell_type": "code",
   "execution_count": 36,
   "metadata": {},
   "outputs": [],
   "source": [
    "bilstm_model = load_model(\"E:/Project/KG/named_entity_recognition_bilstm/ckpts/bilstm.pkl\")"
   ]
  },
  {
   "cell_type": "code",
   "execution_count": 3,
   "metadata": {},
   "outputs": [
    {
     "output_type": "execute_result",
     "data": {
      "text/plain": [
       "<models.bilstm_crf.BILSTM_Model at 0x2d13b20b5f8>"
      ]
     },
     "metadata": {},
     "execution_count": 3
    }
   ],
   "source": [
    "bilstm_model"
   ]
  },
  {
   "cell_type": "code",
   "execution_count": 20,
   "metadata": {},
   "outputs": [],
   "source": [
    "train_word_lists, train_tag_lists, word2id, tag2id = build_corpus_origin(\"train\")\n",
    "dev_word_lists, dev_tag_lists = build_corpus_origin(\"dev\", make_vocab=False)\n",
    "test_word_lists, test_tag_lists = build_corpus_origin(\"test\", make_vocab=False)\n",
    "bilstm_word2id, bilstm_tag2id = extend_maps(word2id, tag2id, for_crf=False)\n",
    "# crf_word2id, crf_tag2id = extend_maps(word2id, tag2id, for_crf=True)\n",
    "# train_word_lists, train_tag_lists = prepocess_data_for_lstmcrf(train_word_lists, train_tag_lists)\n",
    "# dev_word_lists, dev_tag_lists = prepocess_data_for_lstmcrf(dev_word_lists, dev_tag_lists)\n",
    "# test_word_lists, test_tag_lists = prepocess_data_for_lstmcrf(test_word_lists, test_tag_lists, test=True)"
   ]
  },
  {
   "cell_type": "code",
   "execution_count": 13,
   "metadata": {},
   "outputs": [
    {
     "output_type": "execute_result",
     "data": {
      "text/plain": [
       "{'B-NAME': 0,\n",
       " 'E-NAME': 1,\n",
       " 'O': 2,\n",
       " 'B-CONT': 3,\n",
       " 'M-CONT': 4,\n",
       " 'E-CONT': 5,\n",
       " 'B-RACE': 6,\n",
       " 'E-RACE': 7,\n",
       " 'B-TITLE': 8,\n",
       " 'M-TITLE': 9,\n",
       " 'E-TITLE': 10,\n",
       " 'B-EDU': 11,\n",
       " 'M-EDU': 12,\n",
       " 'E-EDU': 13,\n",
       " 'B-ORG': 14,\n",
       " 'M-ORG': 15,\n",
       " 'E-ORG': 16,\n",
       " 'M-NAME': 17,\n",
       " 'B-PRO': 18,\n",
       " 'M-PRO': 19,\n",
       " 'E-PRO': 20,\n",
       " 'S-RACE': 21,\n",
       " 'S-NAME': 22,\n",
       " 'B-LOC': 23,\n",
       " 'M-LOC': 24,\n",
       " 'E-LOC': 25,\n",
       " 'M-RACE': 26,\n",
       " 'S-ORG': 27}"
      ]
     },
     "metadata": {},
     "execution_count": 13
    }
   ],
   "source": [
    "tag2id\n",
    "\n",
    "# \"B-NAME M-NAME E-NAME S-NAME 姓名\"\n",
    "# \"B-CONT M_CONT E_CONT 国籍\"\n",
    "# \"B-RACE M-RACE E-RACE S-RACE 民族\"\n",
    "# \"B-TITLE M-TITLE E-TITLE 头衔\"\n",
    "# \"B-EDU M-EDU E-EDU 学历\"\n",
    "# \"B-ORG M-ORG E-ORG S-ORG 组织\"\n",
    "# \"B-PRO M-PRO E-PRO 专业\"\n",
    "# \"B-LOC M-LOC E-LOC 地点\""
   ]
  },
  {
   "cell_type": "code",
   "execution_count": 5,
   "metadata": {},
   "outputs": [],
   "source": [
    "word_lists, tag_lists, indices = sort_by_lengths(test_word_lists, test_tag_lists)"
   ]
  },
  {
   "cell_type": "code",
   "execution_count": 6,
   "metadata": {},
   "outputs": [
    {
     "output_type": "execute_result",
     "data": {
      "text/plain": [
       "3821"
      ]
     },
     "metadata": {},
     "execution_count": 6
    }
   ],
   "source": [
    "len(train_word_lists)"
   ]
  },
  {
   "cell_type": "code",
   "execution_count": 16,
   "metadata": {},
   "outputs": [],
   "source": [
    "def seperate_ch(sequence):\n",
    "    return [ch for ch in sequence]\n",
    "    # return [ch for ch in sequence]"
   ]
  },
  {
   "cell_type": "code",
   "execution_count": 17,
   "metadata": {},
   "outputs": [
    {
     "output_type": "execute_result",
     "data": {
      "text/plain": [
       "['常', '建', '良', '，', '男', '，']"
      ]
     },
     "metadata": {},
     "execution_count": 17
    }
   ],
   "source": [
    "test_word_lists[0]"
   ]
  },
  {
   "cell_type": "code",
   "execution_count": 44,
   "metadata": {},
   "outputs": [
    {
     "output_type": "execute_result",
     "data": {
      "text/plain": [
       "['什',\n",
       " '么',\n",
       " '鬼',\n",
       " '？',\n",
       " '\"',\n",
       " '哈',\n",
       " '利',\n",
       " '说',\n",
       " '到',\n",
       " '，',\n",
       " '“',\n",
       " '我',\n",
       " '的',\n",
       " '金',\n",
       " '妮',\n",
       " '呢',\n",
       " '？',\n",
       " '”']"
      ]
     },
     "metadata": {},
     "execution_count": 44
    }
   ],
   "source": [
    "test = seperate_ch('什么鬼？\"哈利说到，“我的金妮呢？”')\n",
    "test"
   ]
  },
  {
   "cell_type": "code",
   "execution_count": 57,
   "metadata": {},
   "outputs": [],
   "source": [
    "tensorized_sents, lengths = tensorized([train_word_lists[0]], bilstm_word2id)"
   ]
  },
  {
   "cell_type": "code",
   "execution_count": 58,
   "metadata": {},
   "outputs": [],
   "source": [
    "tensorized_sents = tensorized_sents.cuda()"
   ]
  },
  {
   "cell_type": "code",
   "execution_count": 59,
   "metadata": {},
   "outputs": [
    {
     "output_type": "execute_result",
     "data": {
      "text/plain": [
       "torch.Size([1, 17])"
      ]
     },
     "metadata": {},
     "execution_count": 59
    }
   ],
   "source": [
    "tensorized_sents.shape"
   ]
  },
  {
   "cell_type": "code",
   "execution_count": 60,
   "metadata": {},
   "outputs": [],
   "source": [
    "batch_tagids = bilstm_model.model.test(tensorized_sents, lengths, bilstm_tag2id)"
   ]
  },
  {
   "cell_type": "code",
   "execution_count": 61,
   "metadata": {},
   "outputs": [],
   "source": [
    "# 将id转化为标注\n",
    "crf = True\n",
    "\n",
    "pred_tag_lists = []\n",
    "id2tag = dict((id_, tag) for tag, id_ in bilstm_tag2id.items())\n",
    "for i, ids in enumerate(batch_tagids):\n",
    "    tag_list = []\n",
    "\n",
    "    if crf:\n",
    "        for j in range(lengths[i] - 1):  # crf解码过程中，end被舍弃\n",
    "            tag_list.append(id2tag[ids[j].item()])\n",
    "    else:\n",
    "        for j in range(lengths[i]):\n",
    "            tag_list.append(id2tag[ids[j].item()])\n",
    "    \n",
    "    pred_tag_lists.append(tag_list)"
   ]
  },
  {
   "cell_type": "code",
   "execution_count": 62,
   "metadata": {},
   "outputs": [
    {
     "output_type": "execute_result",
     "data": {
      "text/plain": [
       "[['B-NAME',\n",
       "  'E-NAME',\n",
       "  'O',\n",
       "  'O',\n",
       "  'O',\n",
       "  'B-CONT',\n",
       "  'M-CONT',\n",
       "  'M-CONT',\n",
       "  'E-CONT',\n",
       "  'O',\n",
       "  'O',\n",
       "  'O',\n",
       "  'O',\n",
       "  'O',\n",
       "  'O',\n",
       "  'O']]"
      ]
     },
     "metadata": {},
     "execution_count": 62
    }
   ],
   "source": [
    "pred_tag_lists"
   ]
  },
  {
   "cell_type": "code",
   "execution_count": null,
   "metadata": {},
   "outputs": [],
   "source": []
  }
 ]
}