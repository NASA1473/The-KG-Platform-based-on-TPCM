{
 "cells": [
  {
   "cell_type": "code",
   "execution_count": 1,
   "metadata": {},
   "outputs": [],
   "source": [
    "import re\n",
    "import sys, json\n",
    "import torch\n",
    "import os\n",
    "import numpy as np\n",
    "import opennre\n",
    "from opennre import encoder, model, framework\n",
    "import argparse\n",
    "import pandas as pd\n",
    "import itertools"
   ]
  },
  {
   "cell_type": "code",
   "execution_count": 2,
   "metadata": {},
   "outputs": [
    {
     "data": {
      "text/plain": [
       "<All keys matched successfully>"
      ]
     },
     "execution_count": 2,
     "metadata": {},
     "output_type": "execute_result"
    }
   ],
   "source": [
    "# 导入关系抽取模型\n",
    "\n",
    "parser = argparse.ArgumentParser()\n",
    "parser.add_argument('--mask_entity', action='store_true', help='Mask entity mentions')\n",
    "args = parser.parse_known_args()[0]\n",
    "\n",
    "root_path = '.'\n",
    "sys.path.append(root_path)\n",
    "if not os.path.exists('ckpt'):\n",
    "    os.mkdir('ckpt')\n",
    "ckpt = 'ckpt/people_chinese_bert_softmax.pth.tar'\n",
    "\n",
    "rel2id = json.load(open(os.path.join(root_path, 'benchmark/people-relation/people-relation_rel2id.json'), encoding='utf-8'))\n",
    "\n",
    "sentence_encoder = opennre.encoder.BERTEncoder(\n",
    "    max_length=80, \n",
    "    pretrain_path=os.path.join(root_path, 'pretrain/chinese_wwm_pytorch'),\n",
    "    mask_entity=args.mask_entity\n",
    ")\n",
    "\n",
    "model = opennre.model.SoftmaxNN(sentence_encoder, len(rel2id), rel2id)\n",
    "model.load_state_dict(torch.load(ckpt)['state_dict'])"
   ]
  },
  {
   "cell_type": "code",
   "execution_count": 4,
   "metadata": {
    "tags": []
   },
   "outputs": [],
   "source": [
    "with open(\"Harry_Potter.txt\", \"r\", encoding=\"utf-8\") as f:\n",
    "    total_lines = [line.strip() for line in f.readlines()]\n",
    "\n",
    "total_lines = [line for line in total_lines if line != '']"
   ]
  },
  {
   "cell_type": "code",
   "execution_count": 5,
   "metadata": {},
   "outputs": [],
   "source": [
    "# 分句\n",
    "cutLineFlag = [\"？\", \"！\", \"。\", \"!\"]\n",
    "sentenceList = []\n",
    "for words in total_lines:\n",
    "    oneSentence = \"\"\n",
    "    for word in words:\n",
    "        if word not in cutLineFlag:\n",
    "            oneSentence = oneSentence + word\n",
    "        else:\n",
    "            oneSentence = oneSentence + word\n",
    "            if oneSentence.__len__() > 4:\n",
    "                sentenceList.append(oneSentence.strip())\n",
    "            oneSentence = \"\""
   ]
  },
  {
   "cell_type": "code",
   "execution_count": 6,
   "metadata": {},
   "outputs": [
    {
     "data": {
      "text/plain": [
       "'“哦，顺便说一句，你鼻子上有块脏东西，你知道吗?”她出去时，罗恩瞪了她一眼。'"
      ]
     },
     "execution_count": 6,
     "metadata": {},
     "output_type": "execute_result"
    }
   ],
   "source": [
    "sentenceList[1997]"
   ]
  },
  {
   "cell_type": "code",
   "execution_count": 7,
   "metadata": {},
   "outputs": [
    {
     "name": "stdout",
     "output_type": "stream",
     "text": [
      "共有实体： 1079\n"
     ]
    }
   ],
   "source": [
    "# 获取所有的实体\n",
    "\n",
    "csv = pd.read_csv(\"data/harryid.csv\", header=0)\n",
    "origin_id = list(csv.iloc[:, 1])\n",
    "\n",
    "total_id = []\n",
    "for id in origin_id:\n",
    "    total_id.append(id)\n",
    "    for sub_id in id.split('.'):\n",
    "        total_id.append(sub_id)\n",
    "\n",
    "total_id = list(set(total_id))\n",
    "total_id.remove('')\n",
    "print(\"共有实体：\", len(total_id))"
   ]
  },
  {
   "cell_type": "code",
   "execution_count": 8,
   "metadata": {},
   "outputs": [],
   "source": [
    "new_data = []\n",
    "for sentence in sentenceList:\n",
    "    id_loc = []\n",
    "    id_list = []\n",
    "    for id in total_id:\n",
    "        if id in sentence:\n",
    "            loc = [(item.start(), item.end()-1) for item in re.finditer(id, sentence)]\n",
    "            id_list.append(id)\n",
    "            id_loc.append(loc[0])\n",
    "            # print(id_loc)\n",
    "        \n",
    "    if len(id_loc) >= 2:\n",
    "        permute = list(itertools.combinations(range(len(id_list)), 2))\n",
    "        # print(len(permute))\n",
    "        for idx in permute:\n",
    "            if id_list[idx[0]] not in id_list[idx[1]] and id_list[idx[1]] not in id_list[idx[0]]:\n",
    "                new_data.append({'text':sentence, 'h': {'pos': id_loc[idx[0]]}, 't': {'pos': id_loc[idx[1]]}})"
   ]
  },
  {
   "cell_type": "code",
   "execution_count": 9,
   "metadata": {},
   "outputs": [
    {
     "name": "stdout",
     "output_type": "stream",
     "text": [
      "共构造数据集: 35962\n"
     ]
    }
   ],
   "source": [
    "print(\"共构造数据集:\", len(new_data))"
   ]
  },
  {
   "cell_type": "code",
   "execution_count": 10,
   "metadata": {},
   "outputs": [
    {
     "data": {
      "text/plain": [
       "{'text': '在他十一岁生日那天，一切都发生了变化，信使猫头鹰带来了一封神秘的信：邀请哈利去一个他——以及所有读到哈利故事的人——会觉得永远难忘的、不可思议的地方——霍格沃茨魔法学校。',\n",
       " 'h': {'pos': (76, 79)},\n",
       " 't': {'pos': (36, 37)}}"
      ]
     },
     "execution_count": 10,
     "metadata": {},
     "output_type": "execute_result"
    }
   ],
   "source": [
    "new_data[0]"
   ]
  },
  {
   "cell_type": "code",
   "execution_count": 11,
   "metadata": {},
   "outputs": [
    {
     "name": "stderr",
     "output_type": "stream",
     "text": [
      "100%|██████████| 35962/35962 [51:38<00:00, 11.61it/s] \n"
     ]
    }
   ],
   "source": [
    "from tqdm import tqdm\n",
    "relation_list = []\n",
    "for data in tqdm(new_data):\n",
    "    text = data['text']\n",
    "    t_pos = data['t']['pos']\n",
    "    h_pos = data['h']['pos']\n",
    "    rela = model.infer(data)\n",
    "    relation_list.append([text[t_pos[0]:t_pos[1]+1], text[h_pos[0]:h_pos[1]+1], rela])"
   ]
  },
  {
   "cell_type": "code",
   "execution_count": 45,
   "metadata": {},
   "outputs": [],
   "source": [
    "relation_df = pd.DataFrame(relation_list)\n",
    "relation_df.to_csv(\"data/relation_raw.csv\", header=False, index=False)"
   ]
  },
  {
   "cell_type": "code",
   "execution_count": 89,
   "metadata": {},
   "outputs": [],
   "source": [
    "# 获取已有的关系\n",
    "existed_relation = pd.read_csv(\"data/harryRel.csv\", header=0)\n",
    "sub_obj_list = list(zip(existed_relation.iloc[:, 1], existed_relation.iloc[:, 2]))\n",
    "\n",
    "from collections import Counter\n",
    "id2count = dict(Counter(list(existed_relation.iloc[:, 1]) + list(existed_relation.iloc[:, 2])))"
   ]
  },
  {
   "cell_type": "code",
   "execution_count": 90,
   "metadata": {},
   "outputs": [],
   "source": [
    "obj_list = {} # [{(sub_obj, obj): {'rela':(rela1, rela2, ...), 'prob':(..), 'sub':(...), 'obj':(...)}}]\n",
    "\n",
    "for item in relation_list:\n",
    "    cand_sub = []\n",
    "    cand_obj = []\n",
    "    if item[2][0] != 'unknown' and item[2][1] > 0.95:\n",
    "        if (item[0], item[1]) not in obj_list.keys():\n",
    "            obj_list[(item[0], item[1])] = {'relation': [item[2][0]], 'prob': [item[2][1]]}\n",
    "        else:\n",
    "            if item[2][0] not in obj_list[(item[0], item[1])]['relation']: # 合并重复的实体对，以及其所有的候选关系\n",
    "                obj_list[(item[0], item[1])]['relation'].append(item[2][0])\n",
    "                obj_list[(item[0], item[1])]['prob'].append(item[2][1])\n",
    "        \n",
    "        for id in origin_id:\n",
    "            if item[0] in id:\n",
    "                cand_sub.append(id)\n",
    "            if item[1] in id:\n",
    "                cand_obj.append(id)\n",
    "            obj_list[(item[0], item[1])]['sub'] = cand_sub # 所有的候选实体\n",
    "            obj_list[(item[0], item[1])]['obj'] = cand_obj"
   ]
  },
  {
   "cell_type": "code",
   "execution_count": 91,
   "metadata": {},
   "outputs": [],
   "source": [
    "new_relation_list = []\n",
    "for key, value in obj_list.items():\n",
    "    if len(value['sub']) > 1: # 如果候选实体中只有一个实体，则直接替代\n",
    "        sub_count = [id2count[i] for i in value['sub']]\n",
    "        subobj = value['sub'][np.argmax(sub_count)]\n",
    "    else:\n",
    "        subobj = value['sub'][0]\n",
    "    \n",
    "    if len(value['obj']) > 1: # 若候选实体中有多个实体，则选出现频率最高的那个替代\n",
    "        obj_count = [id2count[i] for i in value['obj']]\n",
    "        obj = value['obj'][np.argmax(obj_count)]\n",
    "    else:\n",
    "        obj = value['obj'][0]\n",
    "    \n",
    "    if (subobj, obj) not in sub_obj_list and subobj != obj:\n",
    "        rela = value['relation'][np.argmax(value['prob'])]\n",
    "        new_relation_list.append([subobj, obj, rela, value['sub'], value['obj']])"
   ]
  },
  {
   "cell_type": "code",
   "execution_count": 18,
   "metadata": {},
   "outputs": [],
   "source": [
    "relation_df = pd.DataFrame(new_relation_list)\n",
    "relation_df.to_csv(\"data/relation_raw.csv\", header=False, index=False)"
   ]
  },
  {
   "cell_type": "code",
   "execution_count": 19,
   "metadata": {},
   "outputs": [],
   "source": [
    "# 已经清洗过的数据\n",
    "# 推理一些空白关系\n",
    "clean_relation_list = pd.read_csv(\"data/relation_clean.csv\", header=0)\n",
    "sub_list = list(clean_relation_list.iloc[:, 0])\n",
    "obj_list = list(clean_relation_list.iloc[:, 1])\n",
    "rela_list = list(clean_relation_list.iloc[:, 2])\n",
    "clean_relation_list = list(zip(clean_relation_list.iloc[:, 0], clean_relation_list.iloc[:, 1], clean_relation_list.iloc[:, 2]))"
   ]
  },
  {
   "cell_type": "code",
   "execution_count": 21,
   "metadata": {},
   "outputs": [],
   "source": [
    "infer_relation = []\r\n",
    "for i in range(len(rela_list)):\r\n",
    "    if rela_list[i] == '师生':\r\n",
    "        infer_relation.append([obj_list[i], sub_list[i], '学生'])\r\n",
    "\r\n",
    "for rela in infer_relation:\r\n",
    "    if (rela[0], rela[1]) not in list(zip(sub_list, obj_list)):\r\n",
    "        clean_relation_list.append(rela)"
   ]
  },
  {
   "cell_type": "code",
   "execution_count": null,
   "metadata": {},
   "outputs": [],
   "source": [
    "relation_df = pd.DataFrame(clean_relation_list)\n",
    "relation_df.to_csv(\"data/relation_infered.csv\", header=False, index=False)"
   ]
  }
 ],
 "metadata": {
  "kernelspec": {
   "name": "python3",
   "display_name": "Python 3.6.12 64-bit ('opennre': conda)",
   "metadata": {
    "interpreter": {
     "hash": "b5fdc3e7fab1a59fc0e0e7a1721f98f86242be1f07131b0a11d285284e493daa"
    }
   }
  },
  "language_info": {
   "codemirror_mode": {
    "name": "ipython",
    "version": 3
   },
   "file_extension": ".py",
   "mimetype": "text/x-python",
   "name": "python",
   "nbconvert_exporter": "python",
   "pygments_lexer": "ipython3",
   "version": "3.6.12-final"
  }
 },
 "nbformat": 4,
 "nbformat_minor": 4
}